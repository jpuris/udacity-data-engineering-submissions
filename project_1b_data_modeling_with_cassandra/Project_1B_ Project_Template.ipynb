{
 "cells": [
  {
   "cell_type": "markdown",
   "metadata": {},
   "source": [
    "# Part I. ETL Pipeline for Pre-Processing the Files"
   ]
  },
  {
   "cell_type": "markdown",
   "metadata": {},
   "source": [
    "#### Import Python packages "
   ]
  },
  {
   "cell_type": "code",
   "execution_count": 1,
   "metadata": {},
   "outputs": [],
   "source": [
    "# Import Python packages\n",
    "import cassandra\n",
    "import os\n",
    "import pandas as pd\n",
    "import glob\n",
    "import csv\n",
    "import time\n",
    "from IPython.display import display"
   ]
  },
  {
   "cell_type": "markdown",
   "metadata": {},
   "source": [
    "#### Creating list of filepaths to process original event csv data files"
   ]
  },
  {
   "cell_type": "code",
   "execution_count": 2,
   "metadata": {},
   "outputs": [
    {
     "name": "stdout",
     "output_type": "stream",
     "text": [
      "Current directory: /Users/jp/projects/udacity-data-engineering-submissions/project_1b_data_modeling_with_cassandra\n",
      "Filepath directory: /Users/jp/projects/udacity-data-engineering-submissions/project_1b_data_modeling_with_cassandra/event_data\n",
      "Found 30 files in 'Filepath' directory\n"
     ]
    }
   ],
   "source": [
    "# checking your current working directory\n",
    "current_dir = os.getcwd()\n",
    "print(f\"Current directory: {current_dir}\")\n",
    "\n",
    "# Get your current folder and sub-folder event data\n",
    "filepath = current_dir + '/event_data'\n",
    "print(f\"Filepath directory: {filepath}\")\n",
    "\n",
    "# Create a for loop to create a list of files and collect each filepath\n",
    "for root, dirs, files in os.walk(filepath):\n",
    "    \n",
    "    # join the file path and roots with the subdirectories using glob\n",
    "    file_path_list = glob.glob(os.path.join(root,'*'))\n",
    "    #print(file_path_list)\n",
    "\n",
    "print(f\"Found {len(file_path_list)} files in 'Filepath' directory\")"
   ]
  },
  {
   "cell_type": "markdown",
   "metadata": {},
   "source": [
    "#### Processing the files to create the data file csv that will be used for Apache Casssandra tables"
   ]
  },
  {
   "cell_type": "code",
   "execution_count": 3,
   "metadata": {},
   "outputs": [
    {
     "name": "stdout",
     "output_type": "stream",
     "text": [
      "Total number of rows collected across all files: 8056\n",
      "Staging CSV file created: /Users/jp/projects/udacity-data-engineering-submissions/project_1b_data_modeling_with_cassandra/event_datafile_new.csv\n"
     ]
    }
   ],
   "source": [
    "# initiating an empty list of rows that will be generated from each file\n",
    "full_data_rows_list = [] \n",
    "    \n",
    "# for every filepath in the file path list \n",
    "for f in file_path_list:\n",
    "\n",
    "# reading csv file \n",
    "    with open(f, 'r', encoding = 'utf8', newline='') as csvfile: \n",
    "        # creating a csv reader object \n",
    "        csvreader = csv.reader(csvfile) \n",
    "        next(csvreader)\n",
    "        \n",
    "        # extracting each data row one by one and append it        \n",
    "        for line in csvreader:\n",
    "            full_data_rows_list.append(line) \n",
    "\n",
    "print(f\"Total number of rows collected across all files: {len(full_data_rows_list)}\")\n",
    "\n",
    "csv.register_dialect('myDialect', quoting=csv.QUOTE_ALL, skipinitialspace=True)\n",
    "\n",
    "staging_csv = current_dir + '/' + 'event_datafile_new.csv'\n",
    "with open(staging_csv, 'w', encoding = 'utf8', newline='') as f:\n",
    "    writer = csv.writer(f, dialect='myDialect')\n",
    "    writer.writerow(['artist','firstName','gender','itemInSession','lastName','length',\n",
    "                     'level','location','sessionId','song','userId'])\n",
    "\n",
    "    for row in full_data_rows_list:\n",
    "        if row[0] == '':\n",
    "            continue\n",
    "        writer.writerow((row[0], row[2], row[3], row[4], row[5], row[6], row[7], row[8], row[12], row[13], row[16]))\n",
    "        \n",
    "print(f\"Staging CSV file created: {staging_csv}\")"
   ]
  },
  {
   "cell_type": "code",
   "execution_count": 4,
   "metadata": {},
   "outputs": [
    {
     "name": "stdout",
     "output_type": "stream",
     "text": [
      "Number of rows in staging CSV file: 6821\n"
     ]
    }
   ],
   "source": [
    "# check the number of rows in your csv file\n",
    "with open(staging_csv, 'r', encoding = 'utf8') as f:\n",
    "    print(f\"Number of rows in staging CSV file: {sum(1 for line in f)}\")"
   ]
  },
  {
   "cell_type": "markdown",
   "metadata": {},
   "source": [
    "# Part II. Complete the Apache Cassandra coding portion of your project. \n",
    "\n",
    "## Now you are ready to work with the CSV file titled <font color=red>event_datafile_new.csv</font>, located within the Workspace directory.  The event_datafile_new.csv contains the following columns: \n",
    "- artist \n",
    "- firstName of user\n",
    "- gender of user\n",
    "- item number in session\n",
    "- last name of user\n",
    "- length of the song\n",
    "- level (paid or free song)\n",
    "- location of the user\n",
    "- sessionId\n",
    "- song title\n",
    "- userId\n",
    "\n",
    "The image below is a screenshot of what the denormalized data should appear like in the <font color=red>**event_datafile_new.csv**</font> after the code above is run:<br>\n",
    "\n",
    "<img src=\"images/image_event_datafile_new.jpg\">"
   ]
  },
  {
   "cell_type": "markdown",
   "metadata": {},
   "source": [
    "#### Creating a Cluster"
   ]
  },
  {
   "cell_type": "code",
   "execution_count": 24,
   "metadata": {},
   "outputs": [
    {
     "name": "stdout",
     "output_type": "stream",
     "text": [
      "Connected to cassandra cluster ['127.0.0.1']\n"
     ]
    }
   ],
   "source": [
    "# This should make a connection to a Cassandra instance your local machine \n",
    "# (127.0.0.1)\n",
    "\n",
    "from cassandra.cluster import Cluster\n",
    "from cassandra.auth import PlainTextAuthProvider\n",
    "\n",
    "cassandra_hosts = ['127.0.0.1']\n",
    "cassandra_ap = PlainTextAuthProvider(username='cassandra', password='cassandra')\n",
    "\n",
    "try:\n",
    "    cluster = Cluster(cassandra_hosts, auth_provider=cassandra_ap)\n",
    "    session = cluster.connect()\n",
    "    print(f\"Connected to cassandra cluster {cassandra_hosts}\")\n",
    "except Exception as e:\n",
    "    print(f\"Failed to connect to cassandra cluster {cassandra_hosts}, error: {e}\")"
   ]
  },
  {
   "cell_type": "markdown",
   "metadata": {},
   "source": [
    "#### Create Keyspace"
   ]
  },
  {
   "cell_type": "code",
   "execution_count": 6,
   "metadata": {},
   "outputs": [],
   "source": [
    "# Create keyspace, if it does not exist\n",
    "cassandra_keyspace = 'sparkify'\n",
    "try:\n",
    "    session.execute(\"CREATE KEYSPACE IF NOT EXISTS %s WITH REPLICATION = { 'class' : 'SimpleStrategy', 'replication_factor' : 1 }\" % (cassandra_keyspace))\n",
    "except Exception as e:\n",
    "    print(f\"Failed to create cassandra keyspace '{cassandra_keyspace}', error: {e}\")"
   ]
  },
  {
   "cell_type": "markdown",
   "metadata": {},
   "source": [
    "#### Set Keyspace"
   ]
  },
  {
   "cell_type": "code",
   "execution_count": 25,
   "metadata": {},
   "outputs": [],
   "source": [
    "try:\n",
    "    session.set_keyspace(cassandra_keyspace)\n",
    "except Exception as e:\n",
    "    print(e)"
   ]
  },
  {
   "cell_type": "markdown",
   "metadata": {},
   "source": [
    "## Cassandra database ETL"
   ]
  },
  {
   "cell_type": "markdown",
   "metadata": {},
   "source": [
    "### Create queries to ask the following three questions of the data\n",
    "\n",
    "### Query 1: Get artist's name, song title and song's length that was heard during sessionId = 338, and itemInSession = 4\n",
    "\n",
    "### Query 2: Get artist's name, song title, user's first and last name for userid = 10, sessionid = 182, sorted by \"item in session\"\n",
    "\n",
    "### Query 3: Get every user's first and last name, who listened to the song 'All Hands Against His Own'"
   ]
  },
  {
   "cell_type": "markdown",
   "metadata": {},
   "source": [
    "### Query 1"
   ]
  },
  {
   "cell_type": "code",
   "execution_count": 8,
   "metadata": {},
   "outputs": [
    {
     "name": "stdout",
     "output_type": "stream",
     "text": [
      "Table 'artist_song_lookup' has been created or it already existed\n"
     ]
    }
   ],
   "source": [
    "# Create table for query 1\n",
    "query = \"\"\"\n",
    "CREATE TABLE IF NOT EXISTS artist_song_lookup (\n",
    "    artist_name text,\n",
    "    song_title text,\n",
    "    song_length double,\n",
    "    session_id int,\n",
    "    item_in_session int,\n",
    "    PRIMARY KEY (session_id, item_in_session)\n",
    ")\n",
    "\"\"\"\n",
    "try:\n",
    "    session.execute(query)\n",
    "    print(\"Table 'artist_song_lookup' has been created or it already existed\")\n",
    "except Exception as e:\n",
    "    print(f\"Failed in creating table 'artist_song_lookup'. Error: {e}\")"
   ]
  },
  {
   "cell_type": "code",
   "execution_count": 9,
   "metadata": {
    "scrolled": false
   },
   "outputs": [
    {
     "name": "stdout",
     "output_type": "stream",
     "text": [
      "Loading data into table 'artist_song_lookup'\n",
      "Data has been loaded in table 'artist_song_lookup'... time taken 11.45 seconds\n"
     ]
    }
   ],
   "source": [
    "# Load data from staging CSV file into table 'artist_song_lookup' for query 1\n",
    "file = staging_csv\n",
    "\n",
    "print(\"Loading data into table 'artist_song_lookup'\")\n",
    "query = \"\"\"INSERT INTO artist_song_lookup (artist_name, song_title, song_length, session_id, item_in_session)\n",
    "VALUES (%s, %s, %s, %s, %s)\"\"\"\n",
    "\n",
    "start_time = time.time()\n",
    "with open(file, encoding = 'utf8') as f:\n",
    "    csvreader = csv.reader(f)\n",
    "    next(csvreader)\n",
    "    for line in csvreader:\n",
    "        data = (line[0], line[9], float(line[5]), int(line[8]), int(line[3]))\n",
    "        session.execute(query, data)\n",
    "print(f\"Data has been loaded in table 'artist_song_lookup'... time taken {round(time.time() - start_time, 2)} seconds\")"
   ]
  },
  {
   "cell_type": "code",
   "execution_count": 10,
   "metadata": {
    "scrolled": true
   },
   "outputs": [
    {
     "data": {
      "text/html": [
       "<div>\n",
       "<style scoped>\n",
       "    .dataframe tbody tr th:only-of-type {\n",
       "        vertical-align: middle;\n",
       "    }\n",
       "\n",
       "    .dataframe tbody tr th {\n",
       "        vertical-align: top;\n",
       "    }\n",
       "\n",
       "    .dataframe thead th {\n",
       "        text-align: right;\n",
       "    }\n",
       "</style>\n",
       "<table border=\"1\" class=\"dataframe\">\n",
       "  <thead>\n",
       "    <tr style=\"text-align: right;\">\n",
       "      <th></th>\n",
       "      <th>artist_name</th>\n",
       "      <th>song_title</th>\n",
       "      <th>song_length</th>\n",
       "    </tr>\n",
       "  </thead>\n",
       "  <tbody>\n",
       "    <tr>\n",
       "      <th>0</th>\n",
       "      <td>Faithless</td>\n",
       "      <td>Music Matters (Mark Knight Dub)</td>\n",
       "      <td>495.3073</td>\n",
       "    </tr>\n",
       "  </tbody>\n",
       "</table>\n",
       "</div>"
      ],
      "text/plain": [
       "  artist_name                       song_title  song_length\n",
       "0   Faithless  Music Matters (Mark Knight Dub)     495.3073"
      ]
     },
     "metadata": {},
     "output_type": "display_data"
    }
   ],
   "source": [
    "# Check the data, by running the desired query\n",
    "query = \"\"\"\n",
    "SELECT\n",
    "    artist_name,\n",
    "    song_title,\n",
    "    song_length\n",
    "FROM\n",
    "    artist_song_lookup\n",
    "WHERE\n",
    "    session_id = 338\n",
    "AND item_in_session = 4\n",
    "\"\"\"\n",
    "\n",
    "rows = []\n",
    "try:\n",
    "    rows = session.execute(query)\n",
    "    df_result = pd.DataFrame(list(rows))\n",
    "    display(df_result)\n",
    "except Exception as e:\n",
    "    print(f\"Select query has failed. Error: {e}\")"
   ]
  },
  {
   "cell_type": "markdown",
   "metadata": {},
   "source": [
    "### Query 2"
   ]
  },
  {
   "cell_type": "code",
   "execution_count": 13,
   "metadata": {},
   "outputs": [
    {
     "name": "stdout",
     "output_type": "stream",
     "text": [
      "Table 'user_activity' has been created or it already existed\n"
     ]
    }
   ],
   "source": [
    "# Query 2: Give me only the following: name of artist, song (sorted by itemInSession) and user (first and last name)\n",
    "# for userid = 10, sessionid = 182\n",
    "query = \"\"\"\n",
    "CREATE TABLE IF NOT EXISTS user_activity (\n",
    "    artist_name text,\n",
    "    song_title text,\n",
    "    user_firstn text,\n",
    "    user_lastn text,\n",
    "    item_in_session int,\n",
    "    user_id int,\n",
    "    session_id int,\n",
    "    PRIMARY KEY ((session_id, user_id), item_in_session)\n",
    ") WITH CLUSTERING ORDER BY (item_in_session ASC)\n",
    "\"\"\"\n",
    "\n",
    "try:\n",
    "    session.execute(query)\n",
    "    print(\"Table 'user_activity' has been created or it already existed\")\n",
    "except Exception as e:\n",
    "    print(f\"Failed in creating table 'user_activity'. Error: {e}\")"
   ]
  },
  {
   "cell_type": "code",
   "execution_count": 14,
   "metadata": {
    "scrolled": true
   },
   "outputs": [
    {
     "name": "stdout",
     "output_type": "stream",
     "text": [
      "Loading data into table 'user_activity'\n",
      "Data has been loaded in table 'user_activity'... time taken 11.05 seconds\n"
     ]
    }
   ],
   "source": [
    "# Load data from staging CSV file into table 'user_activity' for query 2\n",
    "file = staging_csv\n",
    "\n",
    "print(\"Loading data into table 'user_activity'\")\n",
    "query = \"\"\"INSERT INTO user_activity (artist_name, song_title, user_firstn, user_lastn, item_in_session, user_id, session_id)\n",
    "VALUES (%s, %s, %s, %s, %s, %s, %s)\"\"\"\n",
    "    \n",
    "start_time = time.time()\n",
    "with open(file, encoding = 'utf8') as f:\n",
    "    csvreader = csv.reader(f)\n",
    "    next(csvreader)\n",
    "    for line in csvreader:\n",
    "        data = (line[0], line[9], line[1], line[4], int(line[3]), int(line[10]), int(line[8]))\n",
    "        session.execute(query, data)\n",
    "print(f\"Data has been loaded in table 'user_activity'... time taken {round(time.time() - start_time, 2)} seconds\")"
   ]
  },
  {
   "cell_type": "code",
   "execution_count": 17,
   "metadata": {
    "scrolled": true
   },
   "outputs": [
    {
     "data": {
      "text/html": [
       "<div>\n",
       "<style scoped>\n",
       "    .dataframe tbody tr th:only-of-type {\n",
       "        vertical-align: middle;\n",
       "    }\n",
       "\n",
       "    .dataframe tbody tr th {\n",
       "        vertical-align: top;\n",
       "    }\n",
       "\n",
       "    .dataframe thead th {\n",
       "        text-align: right;\n",
       "    }\n",
       "</style>\n",
       "<table border=\"1\" class=\"dataframe\">\n",
       "  <thead>\n",
       "    <tr style=\"text-align: right;\">\n",
       "      <th></th>\n",
       "      <th>artist_name</th>\n",
       "      <th>song_title</th>\n",
       "      <th>user_firstn</th>\n",
       "      <th>user_lastn</th>\n",
       "    </tr>\n",
       "  </thead>\n",
       "  <tbody>\n",
       "    <tr>\n",
       "      <th>0</th>\n",
       "      <td>Down To The Bone</td>\n",
       "      <td>Keep On Keepin' On</td>\n",
       "      <td>Sylvie</td>\n",
       "      <td>Cruz</td>\n",
       "    </tr>\n",
       "    <tr>\n",
       "      <th>1</th>\n",
       "      <td>Three Drives</td>\n",
       "      <td>Greece 2000</td>\n",
       "      <td>Sylvie</td>\n",
       "      <td>Cruz</td>\n",
       "    </tr>\n",
       "    <tr>\n",
       "      <th>2</th>\n",
       "      <td>Sebastien Tellier</td>\n",
       "      <td>Kilometer</td>\n",
       "      <td>Sylvie</td>\n",
       "      <td>Cruz</td>\n",
       "    </tr>\n",
       "    <tr>\n",
       "      <th>3</th>\n",
       "      <td>Lonnie Gordon</td>\n",
       "      <td>Catch You Baby (Steve Pitron &amp; Max Sanna Radio...</td>\n",
       "      <td>Sylvie</td>\n",
       "      <td>Cruz</td>\n",
       "    </tr>\n",
       "  </tbody>\n",
       "</table>\n",
       "</div>"
      ],
      "text/plain": [
       "         artist_name                                         song_title  \\\n",
       "0   Down To The Bone                                 Keep On Keepin' On   \n",
       "1       Three Drives                                        Greece 2000   \n",
       "2  Sebastien Tellier                                          Kilometer   \n",
       "3      Lonnie Gordon  Catch You Baby (Steve Pitron & Max Sanna Radio...   \n",
       "\n",
       "  user_firstn user_lastn  \n",
       "0      Sylvie       Cruz  \n",
       "1      Sylvie       Cruz  \n",
       "2      Sylvie       Cruz  \n",
       "3      Sylvie       Cruz  "
      ]
     },
     "metadata": {},
     "output_type": "display_data"
    }
   ],
   "source": [
    "# Check the data, by running the desired query\n",
    "query = \"\"\"\n",
    "SELECT artist_name, song_title, user_firstn, user_lastn\n",
    "FROM user_activity\n",
    "WHERE user_id = 10\n",
    "  AND session_id = 182;\n",
    "\"\"\"\n",
    "\n",
    "rows = []\n",
    "try:\n",
    "    rows = session.execute(query)\n",
    "    df_result = pd.DataFrame(list(rows))\n",
    "    display(df_result)\n",
    "except Exception as e:\n",
    "    print(f\"Select query has failed. Error: {e}\")"
   ]
  },
  {
   "cell_type": "markdown",
   "metadata": {},
   "source": [
    "### Query 3"
   ]
  },
  {
   "cell_type": "code",
   "execution_count": 18,
   "metadata": {},
   "outputs": [
    {
     "name": "stdout",
     "output_type": "stream",
     "text": [
      "Table 'user_songs' has been created or it already existed\n"
     ]
    }
   ],
   "source": [
    "# Query 3: Give me every user name (first and last) in my music app history who listened to the song 'All Hands Against His Own'\n",
    "query = \"\"\"\n",
    "CREATE TABLE IF NOT EXISTS user_songs (\n",
    "    song_title text,\n",
    "    user_firstn text,\n",
    "    user_lastn text,\n",
    "    user_id int,\n",
    "    PRIMARY KEY (song_title, user_id)\n",
    ")\n",
    "\"\"\"\n",
    "\n",
    "try:\n",
    "    session.execute(query)\n",
    "    print(\"Table 'user_songs' has been created or it already existed\")\n",
    "except Exception as e:\n",
    "    print(f\"Failed in creating table 'user_songs'. Error: {e}\")                    "
   ]
  },
  {
   "cell_type": "code",
   "execution_count": 19,
   "metadata": {},
   "outputs": [
    {
     "name": "stdout",
     "output_type": "stream",
     "text": [
      "Loading data into table 'user_songs'\n",
      "Data has been loaded in table 'user_songs'... time taken 12.06 seconds\n"
     ]
    }
   ],
   "source": [
    "# Load data from staging CSV file into table 'user_songs' for query 3\n",
    "file = staging_csv\n",
    "\n",
    "print(\"Loading data into table 'user_songs'\")\n",
    "query = \"\"\"INSERT INTO user_songs (song_title, user_firstn, user_lastn, user_id)\n",
    "VALUES (%s, %s, %s, %s)\"\"\"\n",
    "    \n",
    "start_time = time.time()\n",
    "with open(file, encoding = 'utf8') as f:\n",
    "    csvreader = csv.reader(f)\n",
    "    next(csvreader)\n",
    "    for line in csvreader:\n",
    "        data = (line[9], line[1], line[3], int(line[10]))\n",
    "        session.execute(query, data)\n",
    "print(f\"Data has been loaded in table 'user_songs'... time taken {round(time.time() - start_time, 2)} seconds\")"
   ]
  },
  {
   "cell_type": "code",
   "execution_count": 20,
   "metadata": {},
   "outputs": [
    {
     "data": {
      "text/html": [
       "<div>\n",
       "<style scoped>\n",
       "    .dataframe tbody tr th:only-of-type {\n",
       "        vertical-align: middle;\n",
       "    }\n",
       "\n",
       "    .dataframe tbody tr th {\n",
       "        vertical-align: top;\n",
       "    }\n",
       "\n",
       "    .dataframe thead th {\n",
       "        text-align: right;\n",
       "    }\n",
       "</style>\n",
       "<table border=\"1\" class=\"dataframe\">\n",
       "  <thead>\n",
       "    <tr style=\"text-align: right;\">\n",
       "      <th></th>\n",
       "      <th>user_firstn</th>\n",
       "      <th>user_lastn</th>\n",
       "    </tr>\n",
       "  </thead>\n",
       "  <tbody>\n",
       "    <tr>\n",
       "      <th>0</th>\n",
       "      <td>Jacqueline</td>\n",
       "      <td>50</td>\n",
       "    </tr>\n",
       "    <tr>\n",
       "      <th>1</th>\n",
       "      <td>Tegan</td>\n",
       "      <td>25</td>\n",
       "    </tr>\n",
       "    <tr>\n",
       "      <th>2</th>\n",
       "      <td>Sara</td>\n",
       "      <td>31</td>\n",
       "    </tr>\n",
       "  </tbody>\n",
       "</table>\n",
       "</div>"
      ],
      "text/plain": [
       "  user_firstn user_lastn\n",
       "0  Jacqueline         50\n",
       "1       Tegan         25\n",
       "2        Sara         31"
      ]
     },
     "metadata": {},
     "output_type": "display_data"
    }
   ],
   "source": [
    "# Check the data, by running the desired query\n",
    "query = \"\"\"\n",
    "SELECT user_firstn, user_lastn\n",
    "FROM user_songs\n",
    "WHERE song_title = 'All Hands Against His Own'\n",
    "\"\"\"\n",
    "\n",
    "rows = []\n",
    "try:\n",
    "    rows = session.execute(query)\n",
    "    df_result = pd.DataFrame(list(rows))\n",
    "    display(df_result)\n",
    "except Exception as e:\n",
    "    print(f\"Select query has failed. Error: {e}\")"
   ]
  },
  {
   "cell_type": "markdown",
   "metadata": {},
   "source": [
    "### Drop the tables before closing out the sessions"
   ]
  },
  {
   "cell_type": "code",
   "execution_count": 26,
   "metadata": {},
   "outputs": [],
   "source": [
    "drop_queries = [\n",
    "    \"DROP TABLE IF EXISTS artist_song_lookup;\",\n",
    "    \"DROP TABLE IF EXISTS user_activity;\",\n",
    "    \"DROP TABLE IF EXISTS user_songs;\",\n",
    "]\n",
    "try:\n",
    "    for query in drop_queries:\n",
    "        session.execute(query)\n",
    "except Exception as e:\n",
    "    print(e)"
   ]
  },
  {
   "cell_type": "markdown",
   "metadata": {},
   "source": [
    "### Close the session and cluster connection¶"
   ]
  },
  {
   "cell_type": "code",
   "execution_count": 27,
   "metadata": {},
   "outputs": [],
   "source": [
    "session.shutdown()\n",
    "cluster.shutdown()"
   ]
  }
 ],
 "metadata": {
  "kernelspec": {
   "display_name": "Python 3",
   "language": "python",
   "name": "python3"
  },
  "language_info": {
   "codemirror_mode": {
    "name": "ipython",
    "version": 3
   },
   "file_extension": ".py",
   "mimetype": "text/x-python",
   "name": "python",
   "nbconvert_exporter": "python",
   "pygments_lexer": "ipython3",
   "version": "3.8.2"
  }
 },
 "nbformat": 4,
 "nbformat_minor": 2
}